{
 "cells": [
  {
   "cell_type": "code",
   "execution_count": 22,
   "id": "9a44ccb2-e055-4ff4-8c4e-fa3808575af7",
   "metadata": {},
   "outputs": [],
   "source": [
    "import torch\n"
   ]
  },
  {
   "cell_type": "code",
   "execution_count": 23,
   "id": "3c376c26-b311-40a3-993a-731077933fb1",
   "metadata": {},
   "outputs": [
    {
     "data": {
      "text/plain": [
       "False"
      ]
     },
     "execution_count": 23,
     "metadata": {},
     "output_type": "execute_result"
    }
   ],
   "source": [
    "torch.cuda.is_available()"
   ]
  },
  {
   "cell_type": "code",
   "execution_count": 27,
   "id": "462cf288-e8c6-4d72-b138-d13573d87d44",
   "metadata": {},
   "outputs": [
    {
     "name": "stdout",
     "output_type": "stream",
     "text": [
      "tensor([[381., 682., 983.]], grad_fn=<AddmmBackward0>)\n",
      "tensor([[11., 21., 31.],\n",
      "        [12., 22., 32.]])\n",
      "tensor([[381., 682., 983.]])\n"
     ]
    }
   ],
   "source": [
    "import torch\n",
    "\n",
    "# Сперва создадим тензор x:\n",
    "x = torch.tensor([[10., 20.]])\n",
    "\n",
    "# Оригинальный полносвязный слой с 2-мя входами и 3-мя нейронами (выходами):\n",
    "fc = torch.nn.Linear(2, 3)\n",
    "\n",
    "# Веса fc-слоя хранятся в fc.weight, а bias'ы соответственно в fc.bias\n",
    "# fc.weight и fc.bias по умолчанию инициализируются случайными числами\n",
    "\n",
    "# Давайте проставим свои значения в веса и bias'ы:\n",
    "w = torch.tensor([[11., 12.], [21., 22.], [31., 32]])\n",
    "fc.weight.data = w\n",
    "\n",
    "b = torch.tensor([[31., 32., 33.]])\n",
    "fc.bias.data = b\n",
    "\n",
    "# Получим выход fc-слоя:\n",
    "fc_out = fc(x)\n",
    "\n",
    "# Попробуем теперь получить аналогичные выходы с помощью матричного перемножения:\n",
    "fc_out_alternative = torch.matmul(x, torch.transpose(w, 0, 1)) + b\n",
    "\n",
    "# Проверка осуществляется автоматически вызовом функции\n",
    "# print(fc_out == fc_out_alternative)\n",
    "# (раскомментируйте, если решаете задачу локально)"
   ]
  },
  {
   "cell_type": "code",
   "execution_count": null,
   "id": "91d8ce9a-2542-46f1-9dec-5bf4d6a1866c",
   "metadata": {},
   "outputs": [],
   "source": []
  }
 ],
 "metadata": {
  "kernelspec": {
   "display_name": "Python 3 (ipykernel)",
   "language": "python",
   "name": "python3"
  },
  "language_info": {
   "codemirror_mode": {
    "name": "ipython",
    "version": 3
   },
   "file_extension": ".py",
   "mimetype": "text/x-python",
   "name": "python",
   "nbconvert_exporter": "python",
   "pygments_lexer": "ipython3",
   "version": "3.10.6"
  }
 },
 "nbformat": 4,
 "nbformat_minor": 5
}
